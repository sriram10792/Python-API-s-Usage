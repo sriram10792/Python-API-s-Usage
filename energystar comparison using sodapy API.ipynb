{
 "cells": [
  {
   "cell_type": "markdown",
   "metadata": {},
   "source": [
    "# Using Sodapy to get entire results and then search"
   ]
  },
  {
   "cell_type": "code",
   "execution_count": 105,
   "metadata": {
    "collapsed": true
   },
   "outputs": [],
   "source": [
    "import os\n",
    "import numpy as np\n",
    "import pandas as pd\n",
    "from sodapy import Socrata\n",
    "\n"
   ]
  },
  {
   "cell_type": "code",
   "execution_count": 106,
   "metadata": {
    "collapsed": true
   },
   "outputs": [],
   "source": [
    "model_number='6927'\n",
    "home_url='https://data.energystar.gov/resource/3pic-tayf.json?model_number='\n",
    "model_url=home_url+model_number"
   ]
  },
  {
   "cell_type": "code",
   "execution_count": 166,
   "metadata": {
    "collapsed": true,
    "scrolled": true
   },
   "outputs": [],
   "source": [
    "client = Socrata('data.energystar.gov','Lxccftl28Rf8Tgoxc9P8icoec',username=\"sriramgopal@mail.usf.edu\",password=\"Lalitha@97\")\n",
    "results = client.get(\"3pic-tayf\",limit=3000000)\n",
    "results_df = pd.DataFrame.from_records(results)\n"
   ]
  },
  {
   "cell_type": "code",
   "execution_count": 167,
   "metadata": {},
   "outputs": [
    {
     "data": {
      "text/plain": [
       "(17620, 36)"
      ]
     },
     "execution_count": 167,
     "metadata": {},
     "output_type": "execute_result"
    }
   ],
   "source": [
    "results_df.shape"
   ]
  },
  {
   "cell_type": "code",
   "execution_count": 161,
   "metadata": {
    "collapsed": true
   },
   "outputs": [],
   "source": [
    "required_df=results_df.filter(['model_name','model_number','total_input_power_watts','correlated_color_temperature_kelvin','additional_model_information'])"
   ]
  },
  {
   "cell_type": "code",
   "execution_count": 162,
   "metadata": {},
   "outputs": [
    {
     "data": {
      "text/html": [
       "<div>\n",
       "<style>\n",
       "    .dataframe thead tr:only-child th {\n",
       "        text-align: right;\n",
       "    }\n",
       "\n",
       "    .dataframe thead th {\n",
       "        text-align: left;\n",
       "    }\n",
       "\n",
       "    .dataframe tbody tr th {\n",
       "        vertical-align: top;\n",
       "    }\n",
       "</style>\n",
       "<table border=\"1\" class=\"dataframe\">\n",
       "  <thead>\n",
       "    <tr style=\"text-align: right;\">\n",
       "      <th></th>\n",
       "      <th>model_name</th>\n",
       "      <th>model_number</th>\n",
       "      <th>total_input_power_watts</th>\n",
       "      <th>correlated_color_temperature_kelvin</th>\n",
       "      <th>additional_model_information</th>\n",
       "    </tr>\n",
       "  </thead>\n",
       "  <tbody>\n",
       "    <tr>\n",
       "      <th>0</th>\n",
       "      <td>45584XXL16</td>\n",
       "      <td>CP158529XXL16</td>\n",
       "      <td>9</td>\n",
       "      <td>NaN</td>\n",
       "      <td>NaN</td>\n",
       "    </tr>\n",
       "    <tr>\n",
       "      <th>1</th>\n",
       "      <td>45938XXL16</td>\n",
       "      <td>CP158566XXL16</td>\n",
       "      <td>9</td>\n",
       "      <td>NaN</td>\n",
       "      <td>NaN</td>\n",
       "    </tr>\n",
       "    <tr>\n",
       "      <th>2</th>\n",
       "      <td>43941XXL16</td>\n",
       "      <td>CP158568XXL16</td>\n",
       "      <td>9</td>\n",
       "      <td>NaN</td>\n",
       "      <td>NaN</td>\n",
       "    </tr>\n",
       "    <tr>\n",
       "      <th>3</th>\n",
       "      <td>49689XXL16</td>\n",
       "      <td>CP158618OZL16</td>\n",
       "      <td>9</td>\n",
       "      <td>NaN</td>\n",
       "      <td>NaN</td>\n",
       "    </tr>\n",
       "    <tr>\n",
       "      <th>4</th>\n",
       "      <td>49688XXL16</td>\n",
       "      <td>CP158617OZL16</td>\n",
       "      <td>9</td>\n",
       "      <td>NaN</td>\n",
       "      <td>NaN</td>\n",
       "    </tr>\n",
       "  </tbody>\n",
       "</table>\n",
       "</div>"
      ],
      "text/plain": [
       "   model_name   model_number total_input_power_watts  \\\n",
       "0  45584XXL16  CP158529XXL16                       9   \n",
       "1  45938XXL16  CP158566XXL16                       9   \n",
       "2  43941XXL16  CP158568XXL16                       9   \n",
       "3  49689XXL16  CP158618OZL16                       9   \n",
       "4  49688XXL16  CP158617OZL16                       9   \n",
       "\n",
       "  correlated_color_temperature_kelvin additional_model_information  \n",
       "0                                 NaN                          NaN  \n",
       "1                                 NaN                          NaN  \n",
       "2                                 NaN                          NaN  \n",
       "3                                 NaN                          NaN  \n",
       "4                                 NaN                          NaN  "
      ]
     },
     "execution_count": 162,
     "metadata": {},
     "output_type": "execute_result"
    }
   ],
   "source": [
    "required_df.head()"
   ]
  },
  {
   "cell_type": "code",
   "execution_count": 163,
   "metadata": {},
   "outputs": [
    {
     "data": {
      "text/plain": [
       "(17620, 5)"
      ]
     },
     "execution_count": 163,
     "metadata": {},
     "output_type": "execute_result"
    }
   ],
   "source": [
    "required_df.shape"
   ]
  },
  {
   "cell_type": "code",
   "execution_count": 168,
   "metadata": {
    "collapsed": true
   },
   "outputs": [],
   "source": [
    "sample=results_df[results_df['model_number'].str.contains('UCLD 12IN 30K 90CRI SWR WH',case=False)]"
   ]
  },
  {
   "cell_type": "code",
   "execution_count": 169,
   "metadata": {},
   "outputs": [
    {
     "data": {
      "text/html": [
       "<div>\n",
       "<style>\n",
       "    .dataframe thead tr:only-child th {\n",
       "        text-align: right;\n",
       "    }\n",
       "\n",
       "    .dataframe thead th {\n",
       "        text-align: left;\n",
       "    }\n",
       "\n",
       "    .dataframe tbody tr th {\n",
       "        vertical-align: top;\n",
       "    }\n",
       "</style>\n",
       "<table border=\"1\" class=\"dataframe\">\n",
       "  <thead>\n",
       "    <tr style=\"text-align: right;\">\n",
       "      <th></th>\n",
       "      <th>additional_model_information</th>\n",
       "      <th>alternate_energy_star_lamps_esuid</th>\n",
       "      <th>brand_name</th>\n",
       "      <th>bulb_dimmability</th>\n",
       "      <th>bulb_energy_star_partner</th>\n",
       "      <th>bulb_light_appearance_kelvin</th>\n",
       "      <th>bulb_model_number</th>\n",
       "      <th>can_rating_s</th>\n",
       "      <th>can_size_s</th>\n",
       "      <th>color_rendering_index_cri</th>\n",
       "      <th>...</th>\n",
       "      <th>markets</th>\n",
       "      <th>model_name</th>\n",
       "      <th>model_number</th>\n",
       "      <th>notes</th>\n",
       "      <th>pd_id</th>\n",
       "      <th>power_factor</th>\n",
       "      <th>r9</th>\n",
       "      <th>source_efficacy</th>\n",
       "      <th>special_features_dimming_motion_sensing_etc</th>\n",
       "      <th>total_input_power_watts</th>\n",
       "    </tr>\n",
       "  </thead>\n",
       "  <tbody>\n",
       "    <tr>\n",
       "      <th>3903</th>\n",
       "      <td>,UCLD 12IN 40K 90CRI SWR BN,; ,UCLD 12IN 40K 9...</td>\n",
       "      <td>NaN</td>\n",
       "      <td>Lithonia Lighting</td>\n",
       "      <td>NaN</td>\n",
       "      <td>NaN</td>\n",
       "      <td>NaN</td>\n",
       "      <td>NaN</td>\n",
       "      <td>NaN</td>\n",
       "      <td>NaN</td>\n",
       "      <td>91</td>\n",
       "      <td>...</td>\n",
       "      <td>United States, Canada</td>\n",
       "      <td>UCLD 12IN 30K 90CRI SWR WH</td>\n",
       "      <td>UCLD 12IN 30K 90CRI SWR WH</td>\n",
       "      <td>NaN</td>\n",
       "      <td>2272772</td>\n",
       "      <td>0.96</td>\n",
       "      <td>67</td>\n",
       "      <td>NaN</td>\n",
       "      <td>Continuously Dimmable</td>\n",
       "      <td>7.3</td>\n",
       "    </tr>\n",
       "  </tbody>\n",
       "</table>\n",
       "<p>1 rows × 36 columns</p>\n",
       "</div>"
      ],
      "text/plain": [
       "                           additional_model_information  \\\n",
       "3903  ,UCLD 12IN 40K 90CRI SWR BN,; ,UCLD 12IN 40K 9...   \n",
       "\n",
       "     alternate_energy_star_lamps_esuid         brand_name bulb_dimmability  \\\n",
       "3903                               NaN  Lithonia Lighting              NaN   \n",
       "\n",
       "     bulb_energy_star_partner bulb_light_appearance_kelvin bulb_model_number  \\\n",
       "3903                      NaN                          NaN               NaN   \n",
       "\n",
       "     can_rating_s can_size_s color_rendering_index_cri  \\\n",
       "3903          NaN        NaN                        91   \n",
       "\n",
       "               ...                          markets  \\\n",
       "3903           ...            United States, Canada   \n",
       "\n",
       "                      model_name                model_number notes    pd_id  \\\n",
       "3903  UCLD 12IN 30K 90CRI SWR WH  UCLD 12IN 30K 90CRI SWR WH   NaN  2272772   \n",
       "\n",
       "     power_factor  r9 source_efficacy  \\\n",
       "3903         0.96  67             NaN   \n",
       "\n",
       "     special_features_dimming_motion_sensing_etc total_input_power_watts  \n",
       "3903                       Continuously Dimmable                     7.3  \n",
       "\n",
       "[1 rows x 36 columns]"
      ]
     },
     "execution_count": 169,
     "metadata": {},
     "output_type": "execute_result"
    }
   ],
   "source": [
    "sample"
   ]
  },
  {
   "cell_type": "markdown",
   "metadata": {},
   "source": [
    "# search for model number in the website"
   ]
  },
  {
   "cell_type": "code",
   "execution_count": 97,
   "metadata": {
    "collapsed": true
   },
   "outputs": [],
   "source": [
    "model_test='8TRSG4DIM/827NF30/B/H'"
   ]
  },
  {
   "cell_type": "code",
   "execution_count": 148,
   "metadata": {
    "collapsed": true
   },
   "outputs": [],
   "source": [
    "model_test='UCLD 24IN 30K 90CRI SWR BN'"
   ]
  },
  {
   "cell_type": "code",
   "execution_count": 149,
   "metadata": {
    "collapsed": true
   },
   "outputs": [],
   "source": [
    "import requests\n",
    "parameters={\"model_number\":model_test}\n",
    "mytoken='LFk2Ri4_rPdsMH5v-Po2t2GVg3QzXSTRFrUE'\n",
    "head = {'Authorization': 'token {}'.format(mytoken)}"
   ]
  },
  {
   "cell_type": "code",
   "execution_count": 150,
   "metadata": {
    "collapsed": true
   },
   "outputs": [],
   "source": [
    "response= requests.get(\"https://data.energystar.gov/resource/3pic-tayf.json\",params=parameters)"
   ]
  },
  {
   "cell_type": "code",
   "execution_count": 151,
   "metadata": {
    "scrolled": true
   },
   "outputs": [
    {
     "name": "stdout",
     "output_type": "stream",
     "text": [
      "b'[]\\n'\n"
     ]
    }
   ],
   "source": [
    "print(response.content)"
   ]
  },
  {
   "cell_type": "code",
   "execution_count": null,
   "metadata": {
    "collapsed": true
   },
   "outputs": [],
   "source": []
  }
 ],
 "metadata": {
  "kernelspec": {
   "display_name": "Python 3",
   "language": "python",
   "name": "python3"
  },
  "language_info": {
   "codemirror_mode": {
    "name": "ipython",
    "version": 3
   },
   "file_extension": ".py",
   "mimetype": "text/x-python",
   "name": "python",
   "nbconvert_exporter": "python",
   "pygments_lexer": "ipython3",
   "version": "3.6.5"
  }
 },
 "nbformat": 4,
 "nbformat_minor": 2
}
